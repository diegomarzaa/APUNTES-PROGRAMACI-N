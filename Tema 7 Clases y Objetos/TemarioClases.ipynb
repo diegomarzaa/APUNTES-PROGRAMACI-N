{
 "cells": [
  {
   "cell_type": "markdown",
   "metadata": {
    "collapsed": false
   },
   "source": [
    "### EXAMEN 2017_01_09\n",
    "#### PROBLEMA 2"
   ]
  },
  {
   "cell_type": "code",
   "execution_count": null,
   "metadata": {
    "collapsed": false
   },
   "outputs": [],
   "source": [
    "# ENUNCIADO\n",
    "class Muestra():\n",
    "    def __init__(self, t, x, y):\n",
    "        self.t = t\n",
    "        self.x = x\n",
    "        self.y = y"
   ]
  },
  {
   "cell_type": "code",
   "execution_count": null,
   "metadata": {},
   "outputs": [],
   "source": [
    "# a) leer_muestras\n",
    "def leer_muestras():\n",
    "    lista =[]\n",
    "    línea = input(\"Linea? \")\n",
    "    while línea != \"\":\n",
    "        datos = línea.split(\"#\")\n",
    "        segundos = float(datos[0])\n",
    "        x = float(datos[1])\n",
    "        y = float(datos[2])\n",
    "        muestra = Muestra(segundos, x, y)\n",
    "        lista.append(muestra)\n",
    "        línea = input(\"Linea? \")\n",
    "    return lista"
   ]
  },
  {
   "cell_type": "code",
   "execution_count": null,
   "metadata": {
    "collapsed": false
   },
   "outputs": [],
   "source": [
    "# b)\n",
    "class Muestra():\n",
    "    def __init__(self, t, x, y):\n",
    "        self.t = t\n",
    "        self.x = x\n",
    "        self.y = y\n",
    "    def distancia(self, otra):\n",
    "        return ((self.x - otra.x)**2 + (self.y - otra.y)**2)**0.5"
   ]
  },
  {
   "cell_type": "markdown",
   "metadata": {},
   "source": [
    "- Usariamos m1.distancia(m2) para calcular la distancia entre dos puntos\n",
    "- Tienes que acumular todas las distancias haciendo un bucle"
   ]
  },
  {
   "cell_type": "code",
   "execution_count": null,
   "metadata": {},
   "outputs": [],
   "source": [
    "# c)\n",
    "def distancia_total(lista):\n",
    "    total = 0\n",
    "    for i in range(len(lista) - 1):\n",
    "        dist = lista[i].distancia(lista[i+1])\n",
    "        total += dist\n",
    "    return total"
   ]
  },
  {
   "cell_type": "code",
   "execution_count": null,
   "metadata": {},
   "outputs": [],
   "source": [
    "# d)\n",
    "def mayor_distancia(lista):\n",
    "    mayor = 0\n",
    "    for i in range(len(lista)):\n",
    "        for j in range(i+1, len(lista)):\n",
    "            dist = lista[i].distancia(lista[j])\n",
    "            if dist > mayor:\n",
    "                mayor = dist\n",
    "    return mayor"
   ]
  },
  {
   "cell_type": "markdown",
   "metadata": {},
   "source": [
    "### Mas cosas random (lista estudiantes)"
   ]
  },
  {
   "cell_type": "code",
   "execution_count": null,
   "metadata": {},
   "outputs": [],
   "source": [
    "lista_estudiantes[0].fecha_matricula.año\n",
    "lista_estudiantes[i].notas_trabajos[j]\n",
    "lista_estudiantes[i].dni[-1]    # Coge la letra del DNI"
   ]
  },
  {
   "cell_type": "markdown",
   "metadata": {},
   "source": [
    "---\n",
    "# TEMA 8: FICHEROS DE TEXTO EN PYTHON\n",
    "---"
   ]
  },
  {
   "cell_type": "markdown",
   "metadata": {},
   "source": [
    "QUE HAY QUE SABER?\n",
    "- Abrir y cerrar ficheros de texto\n",
    "- Leer de un fichero de texto\n",
    "- Escribir en un fichero de texto\n",
    "\n",
    "\n",
    "## Abrir un fichero\n",
    "- open(ruta, modo) ---> devuelve un objeto de tipo fichero\n",
    "    - (la ruta puede ser relativa o absoluta, puede ser el nombre del fichero o la ruta completa)\n",
    "    - (el modo puede ser r, w, a)\n",
    "        - r: lectura\n",
    "        - w: escritura\n",
    "        - a: añadir\n",
    "\n",
    "## Cerrar un fichero\n",
    "- fichero.close()\n",
    "\n",
    "# Leer una linea de un fichero\n",
    "- fichero.readline() \n",
    "    - ---> devuelve una cadena con la linea leida\n",
    "    - Lee la linea completa, incluyendo el posible salto de linea. Si no hay mas lineas, devuelve una cadena vacia"
   ]
  },
  {
   "cell_type": "code",
   "execution_count": 3,
   "metadata": {},
   "outputs": [
    {
     "name": "stdout",
     "output_type": "stream",
     "text": [
      "<_io.TextIOWrapper name='usaPunto2D.py' mode='r' encoding='cp1252'>\n"
     ]
    }
   ],
   "source": [
    "f = open(\"muestras.txt\", \"r\")\n",
    "línea = f.readline()\n",
    "f.close()\n"
   ]
  },
  {
   "cell_type": "code",
   "execution_count": 8,
   "metadata": {},
   "outputs": [],
   "source": [
    "def leer_muestras():\n",
    "    fichero = open(\"01.py\", \"r\")\n",
    "    lista =[]\n",
    "    línea = f.readline()\n",
    "\n",
    "    while línea != \"\":\n",
    "        #...\n",
    "        línea = fichero.readline()\n",
    "    \n",
    "    fichero.close()\n",
    "    return lista\n",
    "\n",
    "\n",
    "leer_muestras()"
   ]
  },
  {
   "cell_type": "code",
   "execution_count": null,
   "metadata": {},
   "outputs": [],
   "source": [
    "if linea[-1] == \"\\n\":\n",
    "    linea = linea[:-1]"
   ]
  },
  {
   "cell_type": "markdown",
   "metadata": {},
   "source": [
    "# DEBERES: MIRAR EJEMPLOS A-V"
   ]
  }
 ],
 "metadata": {
  "kernelspec": {
   "display_name": "Python 3.10.7 64-bit",
   "language": "python",
   "name": "python3"
  },
  "language_info": {
   "codemirror_mode": {
    "name": "ipython",
    "version": 3
   },
   "file_extension": ".py",
   "mimetype": "text/x-python",
   "name": "python",
   "nbconvert_exporter": "python",
   "pygments_lexer": "ipython3",
   "version": "3.10.7"
  },
  "orig_nbformat": 4,
  "vscode": {
   "interpreter": {
    "hash": "546f77f3abee563f5f6ccd51d49a672a73bbda9b42d6dd2549424d83cdd1ae6b"
   }
  }
 },
 "nbformat": 4,
 "nbformat_minor": 2
}
